{
 "cells": [
  {
   "cell_type": "markdown",
   "id": "189ceaa0",
   "metadata": {},
   "source": [
    "# Lecture 6 Dictionaries and Dataframes\n",
    "- Student Name: Lakshay Goyal\n",
    "- Division: A"
   ]
  },
  {
   "cell_type": "markdown",
   "id": "c516a075",
   "metadata": {},
   "source": [
    "# Dictionaries"
   ]
  },
  {
   "cell_type": "code",
   "execution_count": 1,
   "id": "ebe35077",
   "metadata": {},
   "outputs": [
    {
     "data": {
      "text/plain": [
       "{'name': 'Lakshay Goyal',\n",
       " 'age': 19,\n",
       " 'division': 'A',\n",
       " 'favorite_movies': ['Spiderman', 'Marvel', 'Inception'],\n",
       " 'favorite_songs': ['Aadat', 'Aabaad', 'Tere Bin']}"
      ]
     },
     "execution_count": 1,
     "metadata": {},
     "output_type": "execute_result"
    }
   ],
   "source": [
    "myself = {\"name\": \"Lakshay Goyal\",\n",
    "         \"age\": 19,\n",
    "         \"division\": \"A\",\n",
    "         \"favorite_movies\": [\"Spiderman\", \"Marvel\", \"Inception\"],\n",
    "         \"favorite_songs\": [\"Aadat\", \"Aabaad\", \"Tere Bin\"],\n",
    "         }\n",
    "myself"
   ]
  },
  {
   "cell_type": "code",
   "execution_count": 2,
   "id": "1f3113f6",
   "metadata": {},
   "outputs": [
    {
     "data": {
      "text/plain": [
       "{'name': 'Lakshay Goyal',\n",
       " 'age': 19,\n",
       " 'division': 'A',\n",
       " 'favorite_movies': ['Spiderman', 'Marvel', 'Inception'],\n",
       " 'favorite_songs': ['Aadat', 'Aabaad', 'Tere Bin'],\n",
       " 'favorite_foods': ['Pav bhaji', 'Pizza', 'Pasta']}"
      ]
     },
     "execution_count": 2,
     "metadata": {},
     "output_type": "execute_result"
    }
   ],
   "source": [
    "# Add new key\n",
    "myself[\"favorite_foods\"] = [\"Pav bhaji\", \"Pizza\", \"Pasta\"]\n",
    "myself"
   ]
  },
  {
   "cell_type": "code",
   "execution_count": 3,
   "id": "795623d1",
   "metadata": {},
   "outputs": [
    {
     "data": {
      "text/plain": [
       "{'name': 'Lakshay Goyal',\n",
       " 'age': 19,\n",
       " 'division': 'E',\n",
       " 'favorite_movies': ['Spiderman', 'Marvel', 'Inception'],\n",
       " 'favorite_songs': ['Aadat', 'Aabaad', 'Tere Bin'],\n",
       " 'favorite_foods': ['Pav bhaji', 'Pizza', 'Pasta']}"
      ]
     },
     "execution_count": 3,
     "metadata": {},
     "output_type": "execute_result"
    }
   ],
   "source": [
    "myself[\"division\"] = \"E\"\n",
    "myself"
   ]
  },
  {
   "cell_type": "code",
   "execution_count": 4,
   "id": "ca6362df",
   "metadata": {},
   "outputs": [
    {
     "data": {
      "text/plain": [
       "{'name': 'Lakshay Goyal',\n",
       " 'age': 19,\n",
       " 'division': 'E',\n",
       " 'favorite_movies': ['Spiderman', 'Marvel', 'Inception', 'GodFather'],\n",
       " 'favorite_songs': ['Aadat', 'Aabaad', 'Tere Bin'],\n",
       " 'favorite_foods': ['Pav bhaji', 'Pizza', 'Pasta']}"
      ]
     },
     "execution_count": 4,
     "metadata": {},
     "output_type": "execute_result"
    }
   ],
   "source": [
    "# Add value to the list of movies\n",
    "myself[\"favorite_movies\"].append(\"GodFather\")\n",
    "myself"
   ]
  },
  {
   "cell_type": "code",
   "execution_count": 5,
   "id": "8214f0fa",
   "metadata": {},
   "outputs": [
    {
     "data": {
      "text/plain": [
       "{'name': 'Lakshay Goyal',\n",
       " 'age': 19,\n",
       " 'division': 'E',\n",
       " 'favorite_movies': ['Spiderman', 'Marvel', 'Inception', 'GodFather'],\n",
       " 'favorite_songs': ['Aabaad', 'Tere Bin'],\n",
       " 'favorite_foods': ['Pav bhaji', 'Pizza', 'Pasta']}"
      ]
     },
     "execution_count": 5,
     "metadata": {},
     "output_type": "execute_result"
    }
   ],
   "source": [
    "# Remove the \"Aadat song\"\n",
    "myself[\"favorite_songs\"].remove(\"Aadat\")\n",
    "myself"
   ]
  },
  {
   "cell_type": "code",
   "execution_count": 6,
   "id": "7a37c71a",
   "metadata": {},
   "outputs": [
    {
     "data": {
      "text/plain": [
       "1"
      ]
     },
     "execution_count": 6,
     "metadata": {},
     "output_type": "execute_result"
    }
   ],
   "source": [
    "#Get Index number\n",
    "myself[\"favorite_movies\"] .index(\"Marvel\")"
   ]
  },
  {
   "cell_type": "code",
   "execution_count": 7,
   "id": "29b7fa8b",
   "metadata": {},
   "outputs": [
    {
     "data": {
      "text/plain": [
       "6"
      ]
     },
     "execution_count": 7,
     "metadata": {},
     "output_type": "execute_result"
    }
   ],
   "source": [
    "# Count total keys\n",
    "total_keys_in_myself = len(myself)\n",
    "total_keys_in_myself"
   ]
  },
  {
   "cell_type": "code",
   "execution_count": 8,
   "id": "0659c4ce",
   "metadata": {},
   "outputs": [
    {
     "data": {
      "text/plain": [
       "4"
      ]
     },
     "execution_count": 8,
     "metadata": {},
     "output_type": "execute_result"
    }
   ],
   "source": [
    "# Count total values in list\n",
    "total_movies_in_myself = len(myself[\"favorite_movies\"])\n",
    "total_movies_in_myself"
   ]
  },
  {
   "cell_type": "code",
   "execution_count": 9,
   "id": "efa19828",
   "metadata": {},
   "outputs": [],
   "source": [
    "div_scores_dictionary = {\"student_name\": [\"Jay\", \"Aaryan\", \"Sahil\",\"Riya\",\"Shubh\"],\n",
    "                         \"math_scores\": [20,56,76,78,90],\n",
    "                         \"chemistry_scores\": [32,36,78,23,100],\n",
    "                         \"information_technology_scores\": [34,6,88,100,45],\n",
    "                         \"physics_scores\": [6,88,48,90,25]\n",
    "                         }\n",
    "                         \n",
    "div_emails_dictionary = {\"student_name\": [\"Jay\", \"Aaryan\", \"Sahil\",\"Riya\",\"Shubh\", \"Abdul\"],\n",
    "                           \"student_email\": [\"Jay@gmail.com\", \"Aaryan@gmail.com\", \"Sahil@gmail.com\",\"Riya@gmail.com\",\"Shubh@gmail.com\", \"Abdual@gmail.com\"]\n",
    "                         }"
   ]
  },
  {
   "cell_type": "markdown",
   "id": "1a9b36be",
   "metadata": {},
   "source": [
    "# Dataframes"
   ]
  },
  {
   "cell_type": "code",
   "execution_count": 10,
   "id": "30d89601",
   "metadata": {},
   "outputs": [],
   "source": [
    "# Setup\n",
    "import pandas as pd"
   ]
  },
  {
   "cell_type": "code",
   "execution_count": 11,
   "id": "05e2d0a6",
   "metadata": {},
   "outputs": [
    {
     "data": {
      "text/html": [
       "<div>\n",
       "<style scoped>\n",
       "    .dataframe tbody tr th:only-of-type {\n",
       "        vertical-align: middle;\n",
       "    }\n",
       "\n",
       "    .dataframe tbody tr th {\n",
       "        vertical-align: top;\n",
       "    }\n",
       "\n",
       "    .dataframe thead th {\n",
       "        text-align: right;\n",
       "    }\n",
       "</style>\n",
       "<table border=\"1\" class=\"dataframe\">\n",
       "  <thead>\n",
       "    <tr style=\"text-align: right;\">\n",
       "      <th></th>\n",
       "      <th>student_name</th>\n",
       "      <th>math_scores</th>\n",
       "      <th>chemistry_scores</th>\n",
       "      <th>information_technology_scores</th>\n",
       "      <th>physics_scores</th>\n",
       "    </tr>\n",
       "  </thead>\n",
       "  <tbody>\n",
       "    <tr>\n",
       "      <th>0</th>\n",
       "      <td>Jay</td>\n",
       "      <td>20</td>\n",
       "      <td>32</td>\n",
       "      <td>34</td>\n",
       "      <td>6</td>\n",
       "    </tr>\n",
       "    <tr>\n",
       "      <th>1</th>\n",
       "      <td>Aaryan</td>\n",
       "      <td>56</td>\n",
       "      <td>36</td>\n",
       "      <td>6</td>\n",
       "      <td>88</td>\n",
       "    </tr>\n",
       "    <tr>\n",
       "      <th>2</th>\n",
       "      <td>Sahil</td>\n",
       "      <td>76</td>\n",
       "      <td>78</td>\n",
       "      <td>88</td>\n",
       "      <td>48</td>\n",
       "    </tr>\n",
       "    <tr>\n",
       "      <th>3</th>\n",
       "      <td>Riya</td>\n",
       "      <td>78</td>\n",
       "      <td>23</td>\n",
       "      <td>100</td>\n",
       "      <td>90</td>\n",
       "    </tr>\n",
       "    <tr>\n",
       "      <th>4</th>\n",
       "      <td>Shubh</td>\n",
       "      <td>90</td>\n",
       "      <td>100</td>\n",
       "      <td>45</td>\n",
       "      <td>25</td>\n",
       "    </tr>\n",
       "  </tbody>\n",
       "</table>\n",
       "</div>"
      ],
      "text/plain": [
       "  student_name  math_scores  chemistry_scores  information_technology_scores  \\\n",
       "0          Jay           20                32                             34   \n",
       "1       Aaryan           56                36                              6   \n",
       "2        Sahil           76                78                             88   \n",
       "3         Riya           78                23                            100   \n",
       "4        Shubh           90               100                             45   \n",
       "\n",
       "   physics_scores  \n",
       "0               6  \n",
       "1              88  \n",
       "2              48  \n",
       "3              90  \n",
       "4              25  "
      ]
     },
     "execution_count": 11,
     "metadata": {},
     "output_type": "execute_result"
    }
   ],
   "source": [
    "# Convert the score dictionary into a dataframe\n",
    "scores_df = pd.DataFrame(div_scores_dictionary)\n",
    "scores_df"
   ]
  },
  {
   "cell_type": "code",
   "execution_count": 12,
   "id": "ecc57f20",
   "metadata": {},
   "outputs": [
    {
     "data": {
      "text/html": [
       "<div>\n",
       "<style scoped>\n",
       "    .dataframe tbody tr th:only-of-type {\n",
       "        vertical-align: middle;\n",
       "    }\n",
       "\n",
       "    .dataframe tbody tr th {\n",
       "        vertical-align: top;\n",
       "    }\n",
       "\n",
       "    .dataframe thead th {\n",
       "        text-align: right;\n",
       "    }\n",
       "</style>\n",
       "<table border=\"1\" class=\"dataframe\">\n",
       "  <thead>\n",
       "    <tr style=\"text-align: right;\">\n",
       "      <th></th>\n",
       "      <th>student_name</th>\n",
       "      <th>math_scores</th>\n",
       "      <th>chemistry_scores</th>\n",
       "      <th>information_technology_scores</th>\n",
       "      <th>physics_scores</th>\n",
       "    </tr>\n",
       "  </thead>\n",
       "  <tbody>\n",
       "    <tr>\n",
       "      <th>0</th>\n",
       "      <td>Jay</td>\n",
       "      <td>20</td>\n",
       "      <td>32</td>\n",
       "      <td>34</td>\n",
       "      <td>6</td>\n",
       "    </tr>\n",
       "    <tr>\n",
       "      <th>1</th>\n",
       "      <td>Aaryan</td>\n",
       "      <td>56</td>\n",
       "      <td>36</td>\n",
       "      <td>6</td>\n",
       "      <td>88</td>\n",
       "    </tr>\n",
       "    <tr>\n",
       "      <th>2</th>\n",
       "      <td>Sahil</td>\n",
       "      <td>76</td>\n",
       "      <td>78</td>\n",
       "      <td>88</td>\n",
       "      <td>48</td>\n",
       "    </tr>\n",
       "  </tbody>\n",
       "</table>\n",
       "</div>"
      ],
      "text/plain": [
       "  student_name  math_scores  chemistry_scores  information_technology_scores  \\\n",
       "0          Jay           20                32                             34   \n",
       "1       Aaryan           56                36                              6   \n",
       "2        Sahil           76                78                             88   \n",
       "\n",
       "   physics_scores  \n",
       "0               6  \n",
       "1              88  \n",
       "2              48  "
      ]
     },
     "execution_count": 12,
     "metadata": {},
     "output_type": "execute_result"
    }
   ],
   "source": [
    "# First 3 Rows in dataframe\n",
    "scores_df.head(3)"
   ]
  },
  {
   "cell_type": "code",
   "execution_count": 13,
   "id": "03aa4106",
   "metadata": {},
   "outputs": [
    {
     "data": {
      "text/html": [
       "<div>\n",
       "<style scoped>\n",
       "    .dataframe tbody tr th:only-of-type {\n",
       "        vertical-align: middle;\n",
       "    }\n",
       "\n",
       "    .dataframe tbody tr th {\n",
       "        vertical-align: top;\n",
       "    }\n",
       "\n",
       "    .dataframe thead th {\n",
       "        text-align: right;\n",
       "    }\n",
       "</style>\n",
       "<table border=\"1\" class=\"dataframe\">\n",
       "  <thead>\n",
       "    <tr style=\"text-align: right;\">\n",
       "      <th></th>\n",
       "      <th>student_name</th>\n",
       "      <th>math_scores</th>\n",
       "      <th>chemistry_scores</th>\n",
       "      <th>information_technology_scores</th>\n",
       "      <th>physics_scores</th>\n",
       "    </tr>\n",
       "  </thead>\n",
       "  <tbody>\n",
       "    <tr>\n",
       "      <th>3</th>\n",
       "      <td>Riya</td>\n",
       "      <td>78</td>\n",
       "      <td>23</td>\n",
       "      <td>100</td>\n",
       "      <td>90</td>\n",
       "    </tr>\n",
       "    <tr>\n",
       "      <th>4</th>\n",
       "      <td>Shubh</td>\n",
       "      <td>90</td>\n",
       "      <td>100</td>\n",
       "      <td>45</td>\n",
       "      <td>25</td>\n",
       "    </tr>\n",
       "    <tr>\n",
       "      <th>1</th>\n",
       "      <td>Aaryan</td>\n",
       "      <td>56</td>\n",
       "      <td>36</td>\n",
       "      <td>6</td>\n",
       "      <td>88</td>\n",
       "    </tr>\n",
       "  </tbody>\n",
       "</table>\n",
       "</div>"
      ],
      "text/plain": [
       "  student_name  math_scores  chemistry_scores  information_technology_scores  \\\n",
       "3         Riya           78                23                            100   \n",
       "4        Shubh           90               100                             45   \n",
       "1       Aaryan           56                36                              6   \n",
       "\n",
       "   physics_scores  \n",
       "3              90  \n",
       "4              25  \n",
       "1              88  "
      ]
     },
     "execution_count": 13,
     "metadata": {},
     "output_type": "execute_result"
    }
   ],
   "source": [
    "# 3 Random Rows from the dataframe\n",
    "scores_df.sample(3)"
   ]
  },
  {
   "cell_type": "code",
   "execution_count": 14,
   "id": "2662beb7",
   "metadata": {},
   "outputs": [
    {
     "data": {
      "text/html": [
       "<div>\n",
       "<style scoped>\n",
       "    .dataframe tbody tr th:only-of-type {\n",
       "        vertical-align: middle;\n",
       "    }\n",
       "\n",
       "    .dataframe tbody tr th {\n",
       "        vertical-align: top;\n",
       "    }\n",
       "\n",
       "    .dataframe thead th {\n",
       "        text-align: right;\n",
       "    }\n",
       "</style>\n",
       "<table border=\"1\" class=\"dataframe\">\n",
       "  <thead>\n",
       "    <tr style=\"text-align: right;\">\n",
       "      <th></th>\n",
       "      <th>student_name</th>\n",
       "      <th>math_scores</th>\n",
       "      <th>chemistry_scores</th>\n",
       "      <th>information_technology_scores</th>\n",
       "      <th>physics_scores</th>\n",
       "      <th>total_score</th>\n",
       "    </tr>\n",
       "  </thead>\n",
       "  <tbody>\n",
       "    <tr>\n",
       "      <th>0</th>\n",
       "      <td>Jay</td>\n",
       "      <td>20</td>\n",
       "      <td>32</td>\n",
       "      <td>34</td>\n",
       "      <td>6</td>\n",
       "      <td>92</td>\n",
       "    </tr>\n",
       "    <tr>\n",
       "      <th>1</th>\n",
       "      <td>Aaryan</td>\n",
       "      <td>56</td>\n",
       "      <td>36</td>\n",
       "      <td>6</td>\n",
       "      <td>88</td>\n",
       "      <td>186</td>\n",
       "    </tr>\n",
       "    <tr>\n",
       "      <th>2</th>\n",
       "      <td>Sahil</td>\n",
       "      <td>76</td>\n",
       "      <td>78</td>\n",
       "      <td>88</td>\n",
       "      <td>48</td>\n",
       "      <td>290</td>\n",
       "    </tr>\n",
       "    <tr>\n",
       "      <th>3</th>\n",
       "      <td>Riya</td>\n",
       "      <td>78</td>\n",
       "      <td>23</td>\n",
       "      <td>100</td>\n",
       "      <td>90</td>\n",
       "      <td>291</td>\n",
       "    </tr>\n",
       "    <tr>\n",
       "      <th>4</th>\n",
       "      <td>Shubh</td>\n",
       "      <td>90</td>\n",
       "      <td>100</td>\n",
       "      <td>45</td>\n",
       "      <td>25</td>\n",
       "      <td>260</td>\n",
       "    </tr>\n",
       "  </tbody>\n",
       "</table>\n",
       "</div>"
      ],
      "text/plain": [
       "  student_name  math_scores  chemistry_scores  information_technology_scores  \\\n",
       "0          Jay           20                32                             34   \n",
       "1       Aaryan           56                36                              6   \n",
       "2        Sahil           76                78                             88   \n",
       "3         Riya           78                23                            100   \n",
       "4        Shubh           90               100                             45   \n",
       "\n",
       "   physics_scores  total_score  \n",
       "0               6           92  \n",
       "1              88          186  \n",
       "2              48          290  \n",
       "3              90          291  \n",
       "4              25          260  "
      ]
     },
     "execution_count": 14,
     "metadata": {},
     "output_type": "execute_result"
    }
   ],
   "source": [
    "# Create a column called total score that added the scores for all the 4 subjects\n",
    "scores_df[\"total_score\"] = scores_df[\"math_scores\"]+ scores_df[\"chemistry_scores\"]+scores_df[\"information_technology_scores\"]+scores_df[\"physics_scores\"]\n",
    "scores_df"
   ]
  },
  {
   "cell_type": "code",
   "execution_count": 15,
   "id": "66824853",
   "metadata": {},
   "outputs": [
    {
     "data": {
      "text/html": [
       "<div>\n",
       "<style scoped>\n",
       "    .dataframe tbody tr th:only-of-type {\n",
       "        vertical-align: middle;\n",
       "    }\n",
       "\n",
       "    .dataframe tbody tr th {\n",
       "        vertical-align: top;\n",
       "    }\n",
       "\n",
       "    .dataframe thead th {\n",
       "        text-align: right;\n",
       "    }\n",
       "</style>\n",
       "<table border=\"1\" class=\"dataframe\">\n",
       "  <thead>\n",
       "    <tr style=\"text-align: right;\">\n",
       "      <th></th>\n",
       "      <th>student_name</th>\n",
       "      <th>math_scores</th>\n",
       "      <th>chemistry_scores</th>\n",
       "      <th>information_technology_scores</th>\n",
       "      <th>physics_scores</th>\n",
       "      <th>total_score</th>\n",
       "      <th>average_score</th>\n",
       "    </tr>\n",
       "  </thead>\n",
       "  <tbody>\n",
       "    <tr>\n",
       "      <th>0</th>\n",
       "      <td>Jay</td>\n",
       "      <td>20</td>\n",
       "      <td>32</td>\n",
       "      <td>34</td>\n",
       "      <td>6</td>\n",
       "      <td>92</td>\n",
       "      <td>23.00</td>\n",
       "    </tr>\n",
       "    <tr>\n",
       "      <th>1</th>\n",
       "      <td>Aaryan</td>\n",
       "      <td>56</td>\n",
       "      <td>36</td>\n",
       "      <td>6</td>\n",
       "      <td>88</td>\n",
       "      <td>186</td>\n",
       "      <td>46.50</td>\n",
       "    </tr>\n",
       "    <tr>\n",
       "      <th>2</th>\n",
       "      <td>Sahil</td>\n",
       "      <td>76</td>\n",
       "      <td>78</td>\n",
       "      <td>88</td>\n",
       "      <td>48</td>\n",
       "      <td>290</td>\n",
       "      <td>72.50</td>\n",
       "    </tr>\n",
       "    <tr>\n",
       "      <th>3</th>\n",
       "      <td>Riya</td>\n",
       "      <td>78</td>\n",
       "      <td>23</td>\n",
       "      <td>100</td>\n",
       "      <td>90</td>\n",
       "      <td>291</td>\n",
       "      <td>72.75</td>\n",
       "    </tr>\n",
       "    <tr>\n",
       "      <th>4</th>\n",
       "      <td>Shubh</td>\n",
       "      <td>90</td>\n",
       "      <td>100</td>\n",
       "      <td>45</td>\n",
       "      <td>25</td>\n",
       "      <td>260</td>\n",
       "      <td>65.00</td>\n",
       "    </tr>\n",
       "  </tbody>\n",
       "</table>\n",
       "</div>"
      ],
      "text/plain": [
       "  student_name  math_scores  chemistry_scores  information_technology_scores  \\\n",
       "0          Jay           20                32                             34   \n",
       "1       Aaryan           56                36                              6   \n",
       "2        Sahil           76                78                             88   \n",
       "3         Riya           78                23                            100   \n",
       "4        Shubh           90               100                             45   \n",
       "\n",
       "   physics_scores  total_score  average_score  \n",
       "0               6           92          23.00  \n",
       "1              88          186          46.50  \n",
       "2              48          290          72.50  \n",
       "3              90          291          72.75  \n",
       "4              25          260          65.00  "
      ]
     },
     "execution_count": 15,
     "metadata": {},
     "output_type": "execute_result"
    }
   ],
   "source": [
    "# Create a column called \"average score\"\n",
    "scores_df[\"average_score\"] = scores_df[\"total_score\"]/4\n",
    "scores_df"
   ]
  },
  {
   "cell_type": "code",
   "execution_count": 16,
   "id": "7248edd4",
   "metadata": {},
   "outputs": [],
   "source": [
    "# Making our score in csv file\n",
    "scores_df.to_csv(\"Report Card.csv\")"
   ]
  },
  {
   "cell_type": "code",
   "execution_count": 17,
   "id": "f5db03ed",
   "metadata": {},
   "outputs": [
    {
     "data": {
      "text/html": [
       "<div>\n",
       "<style scoped>\n",
       "    .dataframe tbody tr th:only-of-type {\n",
       "        vertical-align: middle;\n",
       "    }\n",
       "\n",
       "    .dataframe tbody tr th {\n",
       "        vertical-align: top;\n",
       "    }\n",
       "\n",
       "    .dataframe thead th {\n",
       "        text-align: right;\n",
       "    }\n",
       "</style>\n",
       "<table border=\"1\" class=\"dataframe\">\n",
       "  <thead>\n",
       "    <tr style=\"text-align: right;\">\n",
       "      <th></th>\n",
       "      <th>math_scores</th>\n",
       "      <th>chemistry_scores</th>\n",
       "      <th>information_technology_scores</th>\n",
       "      <th>physics_scores</th>\n",
       "      <th>total_score</th>\n",
       "      <th>average_score</th>\n",
       "    </tr>\n",
       "  </thead>\n",
       "  <tbody>\n",
       "    <tr>\n",
       "      <th>count</th>\n",
       "      <td>5.00000</td>\n",
       "      <td>5.00000</td>\n",
       "      <td>5.000000</td>\n",
       "      <td>5.000000</td>\n",
       "      <td>5.00000</td>\n",
       "      <td>5.000000</td>\n",
       "    </tr>\n",
       "    <tr>\n",
       "      <th>mean</th>\n",
       "      <td>64.00000</td>\n",
       "      <td>53.80000</td>\n",
       "      <td>54.600000</td>\n",
       "      <td>51.400000</td>\n",
       "      <td>223.80000</td>\n",
       "      <td>55.950000</td>\n",
       "    </tr>\n",
       "    <tr>\n",
       "      <th>std</th>\n",
       "      <td>27.45906</td>\n",
       "      <td>33.39461</td>\n",
       "      <td>38.907583</td>\n",
       "      <td>37.413901</td>\n",
       "      <td>85.15985</td>\n",
       "      <td>21.289962</td>\n",
       "    </tr>\n",
       "    <tr>\n",
       "      <th>min</th>\n",
       "      <td>20.00000</td>\n",
       "      <td>23.00000</td>\n",
       "      <td>6.000000</td>\n",
       "      <td>6.000000</td>\n",
       "      <td>92.00000</td>\n",
       "      <td>23.000000</td>\n",
       "    </tr>\n",
       "    <tr>\n",
       "      <th>25%</th>\n",
       "      <td>56.00000</td>\n",
       "      <td>32.00000</td>\n",
       "      <td>34.000000</td>\n",
       "      <td>25.000000</td>\n",
       "      <td>186.00000</td>\n",
       "      <td>46.500000</td>\n",
       "    </tr>\n",
       "    <tr>\n",
       "      <th>50%</th>\n",
       "      <td>76.00000</td>\n",
       "      <td>36.00000</td>\n",
       "      <td>45.000000</td>\n",
       "      <td>48.000000</td>\n",
       "      <td>260.00000</td>\n",
       "      <td>65.000000</td>\n",
       "    </tr>\n",
       "    <tr>\n",
       "      <th>75%</th>\n",
       "      <td>78.00000</td>\n",
       "      <td>78.00000</td>\n",
       "      <td>88.000000</td>\n",
       "      <td>88.000000</td>\n",
       "      <td>290.00000</td>\n",
       "      <td>72.500000</td>\n",
       "    </tr>\n",
       "    <tr>\n",
       "      <th>max</th>\n",
       "      <td>90.00000</td>\n",
       "      <td>100.00000</td>\n",
       "      <td>100.000000</td>\n",
       "      <td>90.000000</td>\n",
       "      <td>291.00000</td>\n",
       "      <td>72.750000</td>\n",
       "    </tr>\n",
       "  </tbody>\n",
       "</table>\n",
       "</div>"
      ],
      "text/plain": [
       "       math_scores  chemistry_scores  information_technology_scores  \\\n",
       "count      5.00000           5.00000                       5.000000   \n",
       "mean      64.00000          53.80000                      54.600000   \n",
       "std       27.45906          33.39461                      38.907583   \n",
       "min       20.00000          23.00000                       6.000000   \n",
       "25%       56.00000          32.00000                      34.000000   \n",
       "50%       76.00000          36.00000                      45.000000   \n",
       "75%       78.00000          78.00000                      88.000000   \n",
       "max       90.00000         100.00000                     100.000000   \n",
       "\n",
       "       physics_scores  total_score  average_score  \n",
       "count        5.000000      5.00000       5.000000  \n",
       "mean        51.400000    223.80000      55.950000  \n",
       "std         37.413901     85.15985      21.289962  \n",
       "min          6.000000     92.00000      23.000000  \n",
       "25%         25.000000    186.00000      46.500000  \n",
       "50%         48.000000    260.00000      65.000000  \n",
       "75%         88.000000    290.00000      72.500000  \n",
       "max         90.000000    291.00000      72.750000  "
      ]
     },
     "execution_count": 17,
     "metadata": {},
     "output_type": "execute_result"
    }
   ],
   "source": [
    "# Making an insights dataframe\n",
    "insights_df = scores_df.describe()\n",
    "insights_df"
   ]
  },
  {
   "cell_type": "code",
   "execution_count": 18,
   "id": "a3c95d24",
   "metadata": {},
   "outputs": [],
   "source": [
    "insights_df.to_csv(\"Report Card Insights.csv\")"
   ]
  },
  {
   "cell_type": "markdown",
   "id": "f89bb535",
   "metadata": {},
   "source": [
    "# Lecture 7 Starts Here"
   ]
  },
  {
   "cell_type": "code",
   "execution_count": 19,
   "id": "d8796612",
   "metadata": {},
   "outputs": [
    {
     "data": {
      "text/html": [
       "<div>\n",
       "<style scoped>\n",
       "    .dataframe tbody tr th:only-of-type {\n",
       "        vertical-align: middle;\n",
       "    }\n",
       "\n",
       "    .dataframe tbody tr th {\n",
       "        vertical-align: top;\n",
       "    }\n",
       "\n",
       "    .dataframe thead th {\n",
       "        text-align: right;\n",
       "    }\n",
       "</style>\n",
       "<table border=\"1\" class=\"dataframe\">\n",
       "  <thead>\n",
       "    <tr style=\"text-align: right;\">\n",
       "      <th></th>\n",
       "      <th>student_name</th>\n",
       "      <th>math_scores</th>\n",
       "      <th>chemistry_scores</th>\n",
       "      <th>information_technology_scores</th>\n",
       "      <th>physics_scores</th>\n",
       "      <th>total_score</th>\n",
       "      <th>average_score</th>\n",
       "      <th>status</th>\n",
       "    </tr>\n",
       "  </thead>\n",
       "  <tbody>\n",
       "    <tr>\n",
       "      <th>0</th>\n",
       "      <td>Jay</td>\n",
       "      <td>20</td>\n",
       "      <td>32</td>\n",
       "      <td>34</td>\n",
       "      <td>6</td>\n",
       "      <td>92</td>\n",
       "      <td>23.00</td>\n",
       "      <td>fail</td>\n",
       "    </tr>\n",
       "    <tr>\n",
       "      <th>1</th>\n",
       "      <td>Aaryan</td>\n",
       "      <td>56</td>\n",
       "      <td>36</td>\n",
       "      <td>6</td>\n",
       "      <td>88</td>\n",
       "      <td>186</td>\n",
       "      <td>46.50</td>\n",
       "      <td>pass</td>\n",
       "    </tr>\n",
       "    <tr>\n",
       "      <th>2</th>\n",
       "      <td>Sahil</td>\n",
       "      <td>76</td>\n",
       "      <td>78</td>\n",
       "      <td>88</td>\n",
       "      <td>48</td>\n",
       "      <td>290</td>\n",
       "      <td>72.50</td>\n",
       "      <td>pass</td>\n",
       "    </tr>\n",
       "    <tr>\n",
       "      <th>3</th>\n",
       "      <td>Riya</td>\n",
       "      <td>78</td>\n",
       "      <td>23</td>\n",
       "      <td>100</td>\n",
       "      <td>90</td>\n",
       "      <td>291</td>\n",
       "      <td>72.75</td>\n",
       "      <td>pass</td>\n",
       "    </tr>\n",
       "    <tr>\n",
       "      <th>4</th>\n",
       "      <td>Shubh</td>\n",
       "      <td>90</td>\n",
       "      <td>100</td>\n",
       "      <td>45</td>\n",
       "      <td>25</td>\n",
       "      <td>260</td>\n",
       "      <td>65.00</td>\n",
       "      <td>pass</td>\n",
       "    </tr>\n",
       "  </tbody>\n",
       "</table>\n",
       "</div>"
      ],
      "text/plain": [
       "  student_name  math_scores  chemistry_scores  information_technology_scores  \\\n",
       "0          Jay           20                32                             34   \n",
       "1       Aaryan           56                36                              6   \n",
       "2        Sahil           76                78                             88   \n",
       "3         Riya           78                23                            100   \n",
       "4        Shubh           90               100                             45   \n",
       "\n",
       "   physics_scores  total_score  average_score status  \n",
       "0               6           92          23.00   fail  \n",
       "1              88          186          46.50   pass  \n",
       "2              48          290          72.50   pass  \n",
       "3              90          291          72.75   pass  \n",
       "4              25          260          65.00   pass  "
      ]
     },
     "execution_count": 19,
     "metadata": {},
     "output_type": "execute_result"
    }
   ],
   "source": [
    "# Add a column that tells if a student passed or failed\n",
    "scores_df.loc[scores_df[\"average_score\"]>=35, \"status\"] = \"pass\"\n",
    "scores_df.loc[scores_df[\"average_score\"]<35, \"status\"] = \"fail\"\n",
    "scores_df"
   ]
  },
  {
   "cell_type": "markdown",
   "id": "7b05769f",
   "metadata": {},
   "source": [
    "# Character Grade"
   ]
  },
  {
   "cell_type": "code",
   "execution_count": 28,
   "id": "a44bfdf3",
   "metadata": {},
   "outputs": [
    {
     "data": {
      "text/html": [
       "<div>\n",
       "<style scoped>\n",
       "    .dataframe tbody tr th:only-of-type {\n",
       "        vertical-align: middle;\n",
       "    }\n",
       "\n",
       "    .dataframe tbody tr th {\n",
       "        vertical-align: top;\n",
       "    }\n",
       "\n",
       "    .dataframe thead th {\n",
       "        text-align: right;\n",
       "    }\n",
       "</style>\n",
       "<table border=\"1\" class=\"dataframe\">\n",
       "  <thead>\n",
       "    <tr style=\"text-align: right;\">\n",
       "      <th></th>\n",
       "      <th>student_name</th>\n",
       "      <th>math_scores</th>\n",
       "      <th>chemistry_scores</th>\n",
       "      <th>information_technology_scores</th>\n",
       "      <th>physics_scores</th>\n",
       "      <th>total_score</th>\n",
       "      <th>average_score</th>\n",
       "      <th>status</th>\n",
       "      <th>character_grade</th>\n",
       "    </tr>\n",
       "  </thead>\n",
       "  <tbody>\n",
       "    <tr>\n",
       "      <th>0</th>\n",
       "      <td>Jay</td>\n",
       "      <td>20</td>\n",
       "      <td>32</td>\n",
       "      <td>34</td>\n",
       "      <td>6</td>\n",
       "      <td>92</td>\n",
       "      <td>23.00</td>\n",
       "      <td>fail</td>\n",
       "      <td>F</td>\n",
       "    </tr>\n",
       "    <tr>\n",
       "      <th>1</th>\n",
       "      <td>Aaryan</td>\n",
       "      <td>56</td>\n",
       "      <td>36</td>\n",
       "      <td>6</td>\n",
       "      <td>88</td>\n",
       "      <td>186</td>\n",
       "      <td>46.50</td>\n",
       "      <td>pass</td>\n",
       "      <td>D</td>\n",
       "    </tr>\n",
       "    <tr>\n",
       "      <th>2</th>\n",
       "      <td>Sahil</td>\n",
       "      <td>76</td>\n",
       "      <td>78</td>\n",
       "      <td>88</td>\n",
       "      <td>48</td>\n",
       "      <td>290</td>\n",
       "      <td>72.50</td>\n",
       "      <td>pass</td>\n",
       "      <td>B</td>\n",
       "    </tr>\n",
       "    <tr>\n",
       "      <th>3</th>\n",
       "      <td>Riya</td>\n",
       "      <td>78</td>\n",
       "      <td>23</td>\n",
       "      <td>100</td>\n",
       "      <td>90</td>\n",
       "      <td>291</td>\n",
       "      <td>72.75</td>\n",
       "      <td>pass</td>\n",
       "      <td>B</td>\n",
       "    </tr>\n",
       "    <tr>\n",
       "      <th>4</th>\n",
       "      <td>Shubh</td>\n",
       "      <td>90</td>\n",
       "      <td>100</td>\n",
       "      <td>45</td>\n",
       "      <td>25</td>\n",
       "      <td>260</td>\n",
       "      <td>65.00</td>\n",
       "      <td>pass</td>\n",
       "      <td>C</td>\n",
       "    </tr>\n",
       "  </tbody>\n",
       "</table>\n",
       "</div>"
      ],
      "text/plain": [
       "  student_name  math_scores  chemistry_scores  information_technology_scores  \\\n",
       "0          Jay           20                32                             34   \n",
       "1       Aaryan           56                36                              6   \n",
       "2        Sahil           76                78                             88   \n",
       "3         Riya           78                23                            100   \n",
       "4        Shubh           90               100                             45   \n",
       "\n",
       "   physics_scores  total_score  average_score status character_grade  \n",
       "0               6           92          23.00   fail               F  \n",
       "1              88          186          46.50   pass               D  \n",
       "2              48          290          72.50   pass               B  \n",
       "3              90          291          72.75   pass               B  \n",
       "4              25          260          65.00   pass               C  "
      ]
     },
     "execution_count": 28,
     "metadata": {},
     "output_type": "execute_result"
    }
   ],
   "source": [
    "scores_df.loc[scores_df[\"average_score\"] >=90, \"character_grade\"] = \"A\"\n",
    "scores_df.loc[(scores_df[\"average_score\"] >=70) & (scores_df[\"average_score\"] < 90), \"character_grade\"] = \"B\"\n",
    "scores_df.loc[(scores_df[\"average_score\"] >=50) & (scores_df[\"average_score\"] < 70), \"character_grade\"] = \"C\"\n",
    "scores_df.loc[(scores_df[\"average_score\"] >=35) & (scores_df[\"average_score\"] < 50), \"character_grade\"] = \"D\"\n",
    "scores_df.loc[scores_df[\"average_score\"] < 35, \"character_grade\"] = \"F\"\n",
    "scores_df"
   ]
  },
  {
   "cell_type": "markdown",
   "id": "d2d7dba4",
   "metadata": {},
   "source": [
    "# Summarizing Data"
   ]
  },
  {
   "cell_type": "code",
   "execution_count": 34,
   "id": "e0d3475e",
   "metadata": {},
   "outputs": [
    {
     "data": {
      "text/html": [
       "<div>\n",
       "<style scoped>\n",
       "    .dataframe tbody tr th:only-of-type {\n",
       "        vertical-align: middle;\n",
       "    }\n",
       "\n",
       "    .dataframe tbody tr th {\n",
       "        vertical-align: top;\n",
       "    }\n",
       "\n",
       "    .dataframe thead th {\n",
       "        text-align: right;\n",
       "    }\n",
       "</style>\n",
       "<table border=\"1\" class=\"dataframe\">\n",
       "  <thead>\n",
       "    <tr style=\"text-align: right;\">\n",
       "      <th></th>\n",
       "      <th>total_students</th>\n",
       "    </tr>\n",
       "    <tr>\n",
       "      <th>status</th>\n",
       "      <th></th>\n",
       "    </tr>\n",
       "  </thead>\n",
       "  <tbody>\n",
       "    <tr>\n",
       "      <th>fail</th>\n",
       "      <td>1</td>\n",
       "    </tr>\n",
       "    <tr>\n",
       "      <th>pass</th>\n",
       "      <td>4</td>\n",
       "    </tr>\n",
       "  </tbody>\n",
       "</table>\n",
       "</div>"
      ],
      "text/plain": [
       "        total_students\n",
       "status                \n",
       "fail                 1\n",
       "pass                 4"
      ]
     },
     "execution_count": 34,
     "metadata": {},
     "output_type": "execute_result"
    }
   ],
   "source": [
    "# Summary that tells me the totalstudents that passed or failed\n",
    "pass_fail_df = scores_df.groupby([\"status\"]).agg(total_students =(\"status\", \"count\"))\n",
    "pass_fail_df"
   ]
  },
  {
   "cell_type": "code",
   "execution_count": 35,
   "id": "d9fea58c",
   "metadata": {},
   "outputs": [
    {
     "data": {
      "text/html": [
       "<div>\n",
       "<style scoped>\n",
       "    .dataframe tbody tr th:only-of-type {\n",
       "        vertical-align: middle;\n",
       "    }\n",
       "\n",
       "    .dataframe tbody tr th {\n",
       "        vertical-align: top;\n",
       "    }\n",
       "\n",
       "    .dataframe thead th {\n",
       "        text-align: right;\n",
       "    }\n",
       "</style>\n",
       "<table border=\"1\" class=\"dataframe\">\n",
       "  <thead>\n",
       "    <tr style=\"text-align: right;\">\n",
       "      <th></th>\n",
       "      <th></th>\n",
       "      <th>total_students</th>\n",
       "    </tr>\n",
       "    <tr>\n",
       "      <th>status</th>\n",
       "      <th>character_grade</th>\n",
       "      <th></th>\n",
       "    </tr>\n",
       "  </thead>\n",
       "  <tbody>\n",
       "    <tr>\n",
       "      <th>fail</th>\n",
       "      <th>F</th>\n",
       "      <td>1</td>\n",
       "    </tr>\n",
       "    <tr>\n",
       "      <th rowspan=\"3\" valign=\"top\">pass</th>\n",
       "      <th>B</th>\n",
       "      <td>2</td>\n",
       "    </tr>\n",
       "    <tr>\n",
       "      <th>C</th>\n",
       "      <td>1</td>\n",
       "    </tr>\n",
       "    <tr>\n",
       "      <th>D</th>\n",
       "      <td>1</td>\n",
       "    </tr>\n",
       "  </tbody>\n",
       "</table>\n",
       "</div>"
      ],
      "text/plain": [
       "                        total_students\n",
       "status character_grade                \n",
       "fail   F                             1\n",
       "pass   B                             2\n",
       "       C                             1\n",
       "       D                             1"
      ]
     },
     "execution_count": 35,
     "metadata": {},
     "output_type": "execute_result"
    }
   ],
   "source": [
    "# Summary that tells me the total students that passed and failed and character grade\n",
    "pass_fail_df = scores_df.groupby([\"status\", \"character_grade\"]).agg(total_students = (\"status\", \"count\"))                                                                \n",
    "pass_fail_df"
   ]
  },
  {
   "cell_type": "code",
   "execution_count": 49,
   "id": "1d292ef4",
   "metadata": {},
   "outputs": [
    {
     "data": {
      "text/html": [
       "<div>\n",
       "<style scoped>\n",
       "    .dataframe tbody tr th:only-of-type {\n",
       "        vertical-align: middle;\n",
       "    }\n",
       "\n",
       "    .dataframe tbody tr th {\n",
       "        vertical-align: top;\n",
       "    }\n",
       "\n",
       "    .dataframe thead th {\n",
       "        text-align: right;\n",
       "    }\n",
       "</style>\n",
       "<table border=\"1\" class=\"dataframe\">\n",
       "  <thead>\n",
       "    <tr style=\"text-align: right;\">\n",
       "      <th></th>\n",
       "      <th></th>\n",
       "      <th>total_students</th>\n",
       "      <th>avg_total_score</th>\n",
       "      <th>lowest_math_score</th>\n",
       "    </tr>\n",
       "    <tr>\n",
       "      <th>status</th>\n",
       "      <th>character_grade</th>\n",
       "      <th></th>\n",
       "      <th></th>\n",
       "      <th></th>\n",
       "    </tr>\n",
       "  </thead>\n",
       "  <tbody>\n",
       "    <tr>\n",
       "      <th>fail</th>\n",
       "      <th>F</th>\n",
       "      <td>1</td>\n",
       "      <td>92.0</td>\n",
       "      <td>20</td>\n",
       "    </tr>\n",
       "    <tr>\n",
       "      <th rowspan=\"3\" valign=\"top\">pass</th>\n",
       "      <th>B</th>\n",
       "      <td>2</td>\n",
       "      <td>290.5</td>\n",
       "      <td>76</td>\n",
       "    </tr>\n",
       "    <tr>\n",
       "      <th>C</th>\n",
       "      <td>1</td>\n",
       "      <td>260.0</td>\n",
       "      <td>90</td>\n",
       "    </tr>\n",
       "    <tr>\n",
       "      <th>D</th>\n",
       "      <td>1</td>\n",
       "      <td>186.0</td>\n",
       "      <td>56</td>\n",
       "    </tr>\n",
       "  </tbody>\n",
       "</table>\n",
       "</div>"
      ],
      "text/plain": [
       "                        total_students  avg_total_score  lowest_math_score\n",
       "status character_grade                                                    \n",
       "fail   F                             1             92.0                 20\n",
       "pass   B                             2            290.5                 76\n",
       "       C                             1            260.0                 90\n",
       "       D                             1            186.0                 56"
      ]
     },
     "execution_count": 49,
     "metadata": {},
     "output_type": "execute_result"
    }
   ],
   "source": [
    "# Summary that tells me the character grade and tell me the avg. total score\n",
    "pass_fail_df = scores_df.groupby([\"status\", \"character_grade\"]).agg(total_students = (\"character_grade\", \"count\"), \n",
    "                                                                    avg_total_score = (\"total_score\", \"mean\"), \n",
    "                                                                    lowest_math_score = (\"math_scores\", \"min\"))\n",
    "                                                                    \n",
    "pass_fail_df"
   ]
  },
  {
   "cell_type": "markdown",
   "id": "065624db",
   "metadata": {},
   "source": [
    "# Challenge - Provide a Summary that tells us average physics, chemistry and maths"
   ]
  },
  {
   "cell_type": "code",
   "execution_count": 24,
   "id": "2169050a",
   "metadata": {},
   "outputs": [
    {
     "data": {
      "text/html": [
       "<div>\n",
       "<style scoped>\n",
       "    .dataframe tbody tr th:only-of-type {\n",
       "        vertical-align: middle;\n",
       "    }\n",
       "\n",
       "    .dataframe tbody tr th {\n",
       "        vertical-align: top;\n",
       "    }\n",
       "\n",
       "    .dataframe thead th {\n",
       "        text-align: right;\n",
       "    }\n",
       "</style>\n",
       "<table border=\"1\" class=\"dataframe\">\n",
       "  <thead>\n",
       "    <tr style=\"text-align: right;\">\n",
       "      <th></th>\n",
       "      <th>avg_phy_score</th>\n",
       "      <th>avg_chem_score</th>\n",
       "      <th>avg_math_score</th>\n",
       "    </tr>\n",
       "    <tr>\n",
       "      <th>character_grade</th>\n",
       "      <th></th>\n",
       "      <th></th>\n",
       "      <th></th>\n",
       "    </tr>\n",
       "  </thead>\n",
       "  <tbody>\n",
       "    <tr>\n",
       "      <th>F</th>\n",
       "      <td>62.75</td>\n",
       "      <td>59.25</td>\n",
       "      <td>75</td>\n",
       "    </tr>\n",
       "  </tbody>\n",
       "</table>\n",
       "</div>"
      ],
      "text/plain": [
       "                 avg_phy_score  avg_chem_score  avg_math_score\n",
       "character_grade                                               \n",
       "F                        62.75           59.25              75"
      ]
     },
     "execution_count": 24,
     "metadata": {},
     "output_type": "execute_result"
    }
   ],
   "source": [
    "character_df = scores_df.groupby([\"character_grade\"]).agg(avg_phy_score = (\"physics_scores\", \"mean\"),\n",
    "                                                         avg_chem_score = (\"chemistry_scores\", \"mean\"),\n",
    "                                                         avg_math_score = (\"math_scores\", \"mean\"))\n",
    "character_df"
   ]
  },
  {
   "cell_type": "markdown",
   "id": "48974b48",
   "metadata": {},
   "source": [
    "# Filtering Data"
   ]
  },
  {
   "cell_type": "code",
   "execution_count": 51,
   "id": "745ec6ac",
   "metadata": {},
   "outputs": [
    {
     "data": {
      "text/html": [
       "<div>\n",
       "<style scoped>\n",
       "    .dataframe tbody tr th:only-of-type {\n",
       "        vertical-align: middle;\n",
       "    }\n",
       "\n",
       "    .dataframe tbody tr th {\n",
       "        vertical-align: top;\n",
       "    }\n",
       "\n",
       "    .dataframe thead th {\n",
       "        text-align: right;\n",
       "    }\n",
       "</style>\n",
       "<table border=\"1\" class=\"dataframe\">\n",
       "  <thead>\n",
       "    <tr style=\"text-align: right;\">\n",
       "      <th></th>\n",
       "      <th>student_name</th>\n",
       "      <th>math_scores</th>\n",
       "      <th>chemistry_scores</th>\n",
       "      <th>information_technology_scores</th>\n",
       "      <th>physics_scores</th>\n",
       "      <th>total_score</th>\n",
       "      <th>average_score</th>\n",
       "      <th>status</th>\n",
       "      <th>character_grade</th>\n",
       "    </tr>\n",
       "  </thead>\n",
       "  <tbody>\n",
       "    <tr>\n",
       "      <th>1</th>\n",
       "      <td>Aaryan</td>\n",
       "      <td>56</td>\n",
       "      <td>36</td>\n",
       "      <td>6</td>\n",
       "      <td>88</td>\n",
       "      <td>186</td>\n",
       "      <td>46.50</td>\n",
       "      <td>pass</td>\n",
       "      <td>D</td>\n",
       "    </tr>\n",
       "    <tr>\n",
       "      <th>2</th>\n",
       "      <td>Sahil</td>\n",
       "      <td>76</td>\n",
       "      <td>78</td>\n",
       "      <td>88</td>\n",
       "      <td>48</td>\n",
       "      <td>290</td>\n",
       "      <td>72.50</td>\n",
       "      <td>pass</td>\n",
       "      <td>B</td>\n",
       "    </tr>\n",
       "    <tr>\n",
       "      <th>3</th>\n",
       "      <td>Riya</td>\n",
       "      <td>78</td>\n",
       "      <td>23</td>\n",
       "      <td>100</td>\n",
       "      <td>90</td>\n",
       "      <td>291</td>\n",
       "      <td>72.75</td>\n",
       "      <td>pass</td>\n",
       "      <td>B</td>\n",
       "    </tr>\n",
       "    <tr>\n",
       "      <th>4</th>\n",
       "      <td>Shubh</td>\n",
       "      <td>90</td>\n",
       "      <td>100</td>\n",
       "      <td>45</td>\n",
       "      <td>25</td>\n",
       "      <td>260</td>\n",
       "      <td>65.00</td>\n",
       "      <td>pass</td>\n",
       "      <td>C</td>\n",
       "    </tr>\n",
       "  </tbody>\n",
       "</table>\n",
       "</div>"
      ],
      "text/plain": [
       "  student_name  math_scores  chemistry_scores  information_technology_scores  \\\n",
       "1       Aaryan           56                36                              6   \n",
       "2        Sahil           76                78                             88   \n",
       "3         Riya           78                23                            100   \n",
       "4        Shubh           90               100                             45   \n",
       "\n",
       "   physics_scores  total_score  average_score status character_grade  \n",
       "1              88          186          46.50   pass               D  \n",
       "2              48          290          72.50   pass               B  \n",
       "3              90          291          72.75   pass               B  \n",
       "4              25          260          65.00   pass               C  "
      ]
     },
     "execution_count": 51,
     "metadata": {},
     "output_type": "execute_result"
    }
   ],
   "source": [
    "# We want to see only students who passed\n",
    "only_passed_df = scores_df.loc[scores_df[\"status\"]== \"pass\"]\n",
    "only_passed_df"
   ]
  },
  {
   "cell_type": "code",
   "execution_count": 52,
   "id": "0b4331a2",
   "metadata": {},
   "outputs": [
    {
     "data": {
      "text/html": [
       "<div>\n",
       "<style scoped>\n",
       "    .dataframe tbody tr th:only-of-type {\n",
       "        vertical-align: middle;\n",
       "    }\n",
       "\n",
       "    .dataframe tbody tr th {\n",
       "        vertical-align: top;\n",
       "    }\n",
       "\n",
       "    .dataframe thead th {\n",
       "        text-align: right;\n",
       "    }\n",
       "</style>\n",
       "<table border=\"1\" class=\"dataframe\">\n",
       "  <thead>\n",
       "    <tr style=\"text-align: right;\">\n",
       "      <th></th>\n",
       "      <th>student_name</th>\n",
       "      <th>math_scores</th>\n",
       "      <th>chemistry_scores</th>\n",
       "      <th>information_technology_scores</th>\n",
       "      <th>physics_scores</th>\n",
       "      <th>total_score</th>\n",
       "      <th>average_score</th>\n",
       "      <th>status</th>\n",
       "      <th>character_grade</th>\n",
       "    </tr>\n",
       "  </thead>\n",
       "  <tbody>\n",
       "    <tr>\n",
       "      <th>1</th>\n",
       "      <td>Aaryan</td>\n",
       "      <td>56</td>\n",
       "      <td>36</td>\n",
       "      <td>6</td>\n",
       "      <td>88</td>\n",
       "      <td>186</td>\n",
       "      <td>46.50</td>\n",
       "      <td>pass</td>\n",
       "      <td>D</td>\n",
       "    </tr>\n",
       "    <tr>\n",
       "      <th>2</th>\n",
       "      <td>Sahil</td>\n",
       "      <td>76</td>\n",
       "      <td>78</td>\n",
       "      <td>88</td>\n",
       "      <td>48</td>\n",
       "      <td>290</td>\n",
       "      <td>72.50</td>\n",
       "      <td>pass</td>\n",
       "      <td>B</td>\n",
       "    </tr>\n",
       "    <tr>\n",
       "      <th>3</th>\n",
       "      <td>Riya</td>\n",
       "      <td>78</td>\n",
       "      <td>23</td>\n",
       "      <td>100</td>\n",
       "      <td>90</td>\n",
       "      <td>291</td>\n",
       "      <td>72.75</td>\n",
       "      <td>pass</td>\n",
       "      <td>B</td>\n",
       "    </tr>\n",
       "    <tr>\n",
       "      <th>4</th>\n",
       "      <td>Shubh</td>\n",
       "      <td>90</td>\n",
       "      <td>100</td>\n",
       "      <td>45</td>\n",
       "      <td>25</td>\n",
       "      <td>260</td>\n",
       "      <td>65.00</td>\n",
       "      <td>pass</td>\n",
       "      <td>C</td>\n",
       "    </tr>\n",
       "  </tbody>\n",
       "</table>\n",
       "</div>"
      ],
      "text/plain": [
       "  student_name  math_scores  chemistry_scores  information_technology_scores  \\\n",
       "1       Aaryan           56                36                              6   \n",
       "2        Sahil           76                78                             88   \n",
       "3         Riya           78                23                            100   \n",
       "4        Shubh           90               100                             45   \n",
       "\n",
       "   physics_scores  total_score  average_score status character_grade  \n",
       "1              88          186          46.50   pass               D  \n",
       "2              48          290          72.50   pass               B  \n",
       "3              90          291          72.75   pass               B  \n",
       "4              25          260          65.00   pass               C  "
      ]
     },
     "execution_count": 52,
     "metadata": {},
     "output_type": "execute_result"
    }
   ],
   "source": [
    "# Alternative approach \n",
    "only_passed_df = scores_df.loc[scores_df[\"average_score\"] >=35]\n",
    "only_passed_df"
   ]
  },
  {
   "cell_type": "code",
   "execution_count": 56,
   "id": "01054a20",
   "metadata": {},
   "outputs": [
    {
     "data": {
      "text/html": [
       "<div>\n",
       "<style scoped>\n",
       "    .dataframe tbody tr th:only-of-type {\n",
       "        vertical-align: middle;\n",
       "    }\n",
       "\n",
       "    .dataframe tbody tr th {\n",
       "        vertical-align: top;\n",
       "    }\n",
       "\n",
       "    .dataframe thead th {\n",
       "        text-align: right;\n",
       "    }\n",
       "</style>\n",
       "<table border=\"1\" class=\"dataframe\">\n",
       "  <thead>\n",
       "    <tr style=\"text-align: right;\">\n",
       "      <th></th>\n",
       "      <th>student_name</th>\n",
       "      <th>math_scores</th>\n",
       "      <th>chemistry_scores</th>\n",
       "      <th>information_technology_scores</th>\n",
       "      <th>physics_scores</th>\n",
       "      <th>total_score</th>\n",
       "      <th>average_score</th>\n",
       "      <th>status</th>\n",
       "      <th>character_grade</th>\n",
       "    </tr>\n",
       "  </thead>\n",
       "  <tbody>\n",
       "    <tr>\n",
       "      <th>2</th>\n",
       "      <td>Sahil</td>\n",
       "      <td>76</td>\n",
       "      <td>78</td>\n",
       "      <td>88</td>\n",
       "      <td>48</td>\n",
       "      <td>290</td>\n",
       "      <td>72.50</td>\n",
       "      <td>pass</td>\n",
       "      <td>B</td>\n",
       "    </tr>\n",
       "    <tr>\n",
       "      <th>3</th>\n",
       "      <td>Riya</td>\n",
       "      <td>78</td>\n",
       "      <td>23</td>\n",
       "      <td>100</td>\n",
       "      <td>90</td>\n",
       "      <td>291</td>\n",
       "      <td>72.75</td>\n",
       "      <td>pass</td>\n",
       "      <td>B</td>\n",
       "    </tr>\n",
       "    <tr>\n",
       "      <th>4</th>\n",
       "      <td>Shubh</td>\n",
       "      <td>90</td>\n",
       "      <td>100</td>\n",
       "      <td>45</td>\n",
       "      <td>25</td>\n",
       "      <td>260</td>\n",
       "      <td>65.00</td>\n",
       "      <td>pass</td>\n",
       "      <td>C</td>\n",
       "    </tr>\n",
       "  </tbody>\n",
       "</table>\n",
       "</div>"
      ],
      "text/plain": [
       "  student_name  math_scores  chemistry_scores  information_technology_scores  \\\n",
       "2        Sahil           76                78                             88   \n",
       "3         Riya           78                23                            100   \n",
       "4        Shubh           90               100                             45   \n",
       "\n",
       "   physics_scores  total_score  average_score status character_grade  \n",
       "2              48          290          72.50   pass               B  \n",
       "3              90          291          72.75   pass               B  \n",
       "4              25          260          65.00   pass               C  "
      ]
     },
     "execution_count": 56,
     "metadata": {},
     "output_type": "execute_result"
    }
   ],
   "source": [
    "#Only show students who passed and also scored greater than or equal to 200\n",
    "\n",
    "pass_200_df = scores_df.loc[(scores_df[\"status\"] == \"pass\") & (scores_df[\"total_score\"] >= 200)]\n",
    "pass_200_df"
   ]
  },
  {
   "cell_type": "code",
   "execution_count": 59,
   "id": "5ed1c751",
   "metadata": {},
   "outputs": [
    {
     "data": {
      "text/html": [
       "<div>\n",
       "<style scoped>\n",
       "    .dataframe tbody tr th:only-of-type {\n",
       "        vertical-align: middle;\n",
       "    }\n",
       "\n",
       "    .dataframe tbody tr th {\n",
       "        vertical-align: top;\n",
       "    }\n",
       "\n",
       "    .dataframe thead th {\n",
       "        text-align: right;\n",
       "    }\n",
       "</style>\n",
       "<table border=\"1\" class=\"dataframe\">\n",
       "  <thead>\n",
       "    <tr style=\"text-align: right;\">\n",
       "      <th></th>\n",
       "      <th>student_name</th>\n",
       "      <th>math_scores</th>\n",
       "      <th>chemistry_scores</th>\n",
       "      <th>information_technology_scores</th>\n",
       "      <th>physics_scores</th>\n",
       "      <th>total_score</th>\n",
       "      <th>average_score</th>\n",
       "      <th>status</th>\n",
       "      <th>character_grade</th>\n",
       "    </tr>\n",
       "  </thead>\n",
       "  <tbody>\n",
       "    <tr>\n",
       "      <th>2</th>\n",
       "      <td>Sahil</td>\n",
       "      <td>76</td>\n",
       "      <td>78</td>\n",
       "      <td>88</td>\n",
       "      <td>48</td>\n",
       "      <td>290</td>\n",
       "      <td>72.50</td>\n",
       "      <td>pass</td>\n",
       "      <td>B</td>\n",
       "    </tr>\n",
       "    <tr>\n",
       "      <th>3</th>\n",
       "      <td>Riya</td>\n",
       "      <td>78</td>\n",
       "      <td>23</td>\n",
       "      <td>100</td>\n",
       "      <td>90</td>\n",
       "      <td>291</td>\n",
       "      <td>72.75</td>\n",
       "      <td>pass</td>\n",
       "      <td>B</td>\n",
       "    </tr>\n",
       "  </tbody>\n",
       "</table>\n",
       "</div>"
      ],
      "text/plain": [
       "  student_name  math_scores  chemistry_scores  information_technology_scores  \\\n",
       "2        Sahil           76                78                             88   \n",
       "3         Riya           78                23                            100   \n",
       "\n",
       "   physics_scores  total_score  average_score status character_grade  \n",
       "2              48          290          72.50   pass               B  \n",
       "3              90          291          72.75   pass               B  "
      ]
     },
     "execution_count": 59,
     "metadata": {},
     "output_type": "execute_result"
    }
   ],
   "source": [
    "# Only show students who either received either A grade or B grade\n",
    "a_b_grade_df = scores_df[(scores_df[\"character_grade\"] == \"A\") | (scores_df[\"character_grade\"] == \"B\")]\n",
    "a_b_grade_df"
   ]
  },
  {
   "cell_type": "code",
   "execution_count": null,
   "id": "47cb2e6e",
   "metadata": {},
   "outputs": [],
   "source": []
  },
  {
   "cell_type": "code",
   "execution_count": null,
   "id": "347bef77",
   "metadata": {},
   "outputs": [],
   "source": []
  },
  {
   "cell_type": "code",
   "execution_count": null,
   "id": "22bff7d3",
   "metadata": {},
   "outputs": [],
   "source": []
  },
  {
   "cell_type": "code",
   "execution_count": null,
   "id": "31769e11",
   "metadata": {},
   "outputs": [],
   "source": []
  },
  {
   "cell_type": "code",
   "execution_count": null,
   "id": "a9dee3b0",
   "metadata": {},
   "outputs": [],
   "source": []
  },
  {
   "cell_type": "code",
   "execution_count": null,
   "id": "86664aa4",
   "metadata": {},
   "outputs": [],
   "source": []
  },
  {
   "cell_type": "code",
   "execution_count": null,
   "id": "aca7f3da",
   "metadata": {},
   "outputs": [],
   "source": []
  },
  {
   "cell_type": "code",
   "execution_count": null,
   "id": "1f434eab",
   "metadata": {},
   "outputs": [],
   "source": []
  },
  {
   "cell_type": "code",
   "execution_count": null,
   "id": "a5470ab9",
   "metadata": {},
   "outputs": [],
   "source": []
  },
  {
   "cell_type": "code",
   "execution_count": null,
   "id": "bf375047",
   "metadata": {},
   "outputs": [],
   "source": []
  },
  {
   "cell_type": "code",
   "execution_count": null,
   "id": "1f51040d",
   "metadata": {},
   "outputs": [],
   "source": []
  },
  {
   "cell_type": "code",
   "execution_count": null,
   "id": "78062ba8",
   "metadata": {},
   "outputs": [],
   "source": []
  },
  {
   "cell_type": "code",
   "execution_count": null,
   "id": "ce25e307",
   "metadata": {},
   "outputs": [],
   "source": []
  },
  {
   "cell_type": "code",
   "execution_count": null,
   "id": "f1b1ebf8",
   "metadata": {},
   "outputs": [],
   "source": []
  },
  {
   "cell_type": "code",
   "execution_count": null,
   "id": "85a801f3",
   "metadata": {},
   "outputs": [],
   "source": []
  },
  {
   "cell_type": "code",
   "execution_count": null,
   "id": "e765894e",
   "metadata": {},
   "outputs": [],
   "source": []
  },
  {
   "cell_type": "code",
   "execution_count": null,
   "id": "1207c3e0",
   "metadata": {},
   "outputs": [],
   "source": []
  },
  {
   "cell_type": "code",
   "execution_count": null,
   "id": "7e17bdd2",
   "metadata": {},
   "outputs": [],
   "source": []
  },
  {
   "cell_type": "code",
   "execution_count": null,
   "id": "110198bc",
   "metadata": {},
   "outputs": [],
   "source": []
  },
  {
   "cell_type": "code",
   "execution_count": null,
   "id": "dfb4de64",
   "metadata": {},
   "outputs": [],
   "source": []
  },
  {
   "cell_type": "code",
   "execution_count": null,
   "id": "4b7baa7b",
   "metadata": {},
   "outputs": [],
   "source": []
  },
  {
   "cell_type": "code",
   "execution_count": null,
   "id": "2a10ce7d",
   "metadata": {},
   "outputs": [],
   "source": []
  },
  {
   "cell_type": "code",
   "execution_count": null,
   "id": "7e2a4b0d",
   "metadata": {},
   "outputs": [],
   "source": []
  },
  {
   "cell_type": "code",
   "execution_count": null,
   "id": "c2726fe4",
   "metadata": {},
   "outputs": [],
   "source": []
  },
  {
   "cell_type": "code",
   "execution_count": null,
   "id": "4c36c64f",
   "metadata": {},
   "outputs": [],
   "source": []
  },
  {
   "cell_type": "code",
   "execution_count": null,
   "id": "ec801546",
   "metadata": {},
   "outputs": [],
   "source": []
  },
  {
   "cell_type": "code",
   "execution_count": null,
   "id": "383bb97e",
   "metadata": {},
   "outputs": [],
   "source": []
  },
  {
   "cell_type": "code",
   "execution_count": null,
   "id": "ac81fcbc",
   "metadata": {},
   "outputs": [],
   "source": []
  },
  {
   "cell_type": "code",
   "execution_count": null,
   "id": "7339a98a",
   "metadata": {},
   "outputs": [],
   "source": []
  },
  {
   "cell_type": "code",
   "execution_count": null,
   "id": "c1fb1a4d",
   "metadata": {},
   "outputs": [],
   "source": []
  },
  {
   "cell_type": "code",
   "execution_count": null,
   "id": "7c4555e7",
   "metadata": {},
   "outputs": [],
   "source": []
  },
  {
   "cell_type": "code",
   "execution_count": null,
   "id": "09e0174b",
   "metadata": {},
   "outputs": [],
   "source": []
  },
  {
   "cell_type": "code",
   "execution_count": null,
   "id": "e0ab2b81",
   "metadata": {},
   "outputs": [],
   "source": []
  },
  {
   "cell_type": "code",
   "execution_count": null,
   "id": "10824da4",
   "metadata": {},
   "outputs": [],
   "source": []
  },
  {
   "cell_type": "code",
   "execution_count": null,
   "id": "7f7c880d",
   "metadata": {},
   "outputs": [],
   "source": []
  },
  {
   "cell_type": "code",
   "execution_count": null,
   "id": "e98a53e5",
   "metadata": {},
   "outputs": [],
   "source": []
  },
  {
   "cell_type": "code",
   "execution_count": null,
   "id": "6c06792d",
   "metadata": {},
   "outputs": [],
   "source": []
  },
  {
   "cell_type": "code",
   "execution_count": null,
   "id": "9f1f54a8",
   "metadata": {},
   "outputs": [],
   "source": []
  },
  {
   "cell_type": "code",
   "execution_count": null,
   "id": "a3d9701f",
   "metadata": {},
   "outputs": [],
   "source": []
  },
  {
   "cell_type": "code",
   "execution_count": null,
   "id": "aff6fbdf",
   "metadata": {},
   "outputs": [],
   "source": []
  },
  {
   "cell_type": "code",
   "execution_count": null,
   "id": "17eede0f",
   "metadata": {},
   "outputs": [],
   "source": []
  },
  {
   "cell_type": "code",
   "execution_count": null,
   "id": "f59722ed",
   "metadata": {},
   "outputs": [],
   "source": []
  },
  {
   "cell_type": "code",
   "execution_count": null,
   "id": "b5b0c66a",
   "metadata": {},
   "outputs": [],
   "source": []
  },
  {
   "cell_type": "code",
   "execution_count": null,
   "id": "546ca1a7",
   "metadata": {},
   "outputs": [],
   "source": []
  },
  {
   "cell_type": "code",
   "execution_count": null,
   "id": "0a6731f3",
   "metadata": {},
   "outputs": [],
   "source": []
  },
  {
   "cell_type": "code",
   "execution_count": null,
   "id": "4a460a51",
   "metadata": {},
   "outputs": [],
   "source": []
  },
  {
   "cell_type": "code",
   "execution_count": null,
   "id": "29234b33",
   "metadata": {},
   "outputs": [],
   "source": []
  },
  {
   "cell_type": "code",
   "execution_count": null,
   "id": "b53abd8b",
   "metadata": {},
   "outputs": [],
   "source": []
  },
  {
   "cell_type": "code",
   "execution_count": null,
   "id": "8e19474a",
   "metadata": {},
   "outputs": [],
   "source": []
  },
  {
   "cell_type": "code",
   "execution_count": null,
   "id": "65a15ec8",
   "metadata": {},
   "outputs": [],
   "source": []
  },
  {
   "cell_type": "code",
   "execution_count": null,
   "id": "277e0fc0",
   "metadata": {},
   "outputs": [],
   "source": []
  },
  {
   "cell_type": "code",
   "execution_count": null,
   "id": "2a997099",
   "metadata": {},
   "outputs": [],
   "source": []
  },
  {
   "cell_type": "code",
   "execution_count": null,
   "id": "cc526096",
   "metadata": {},
   "outputs": [],
   "source": []
  },
  {
   "cell_type": "code",
   "execution_count": null,
   "id": "3c7b0c3d",
   "metadata": {},
   "outputs": [],
   "source": []
  },
  {
   "cell_type": "code",
   "execution_count": null,
   "id": "c002fc78",
   "metadata": {},
   "outputs": [],
   "source": []
  },
  {
   "cell_type": "code",
   "execution_count": null,
   "id": "a027d5b0",
   "metadata": {},
   "outputs": [],
   "source": []
  },
  {
   "cell_type": "code",
   "execution_count": null,
   "id": "6ef2c638",
   "metadata": {},
   "outputs": [],
   "source": []
  },
  {
   "cell_type": "code",
   "execution_count": null,
   "id": "b67d4ac9",
   "metadata": {},
   "outputs": [],
   "source": []
  },
  {
   "cell_type": "code",
   "execution_count": null,
   "id": "58123726",
   "metadata": {},
   "outputs": [],
   "source": []
  },
  {
   "cell_type": "code",
   "execution_count": null,
   "id": "e610ba20",
   "metadata": {},
   "outputs": [],
   "source": []
  },
  {
   "cell_type": "code",
   "execution_count": null,
   "id": "e2c60acc",
   "metadata": {},
   "outputs": [],
   "source": []
  },
  {
   "cell_type": "code",
   "execution_count": null,
   "id": "ec426756",
   "metadata": {},
   "outputs": [],
   "source": []
  },
  {
   "cell_type": "code",
   "execution_count": null,
   "id": "bf3a99d9",
   "metadata": {},
   "outputs": [],
   "source": []
  },
  {
   "cell_type": "code",
   "execution_count": null,
   "id": "8258d324",
   "metadata": {},
   "outputs": [],
   "source": []
  },
  {
   "cell_type": "code",
   "execution_count": null,
   "id": "30fe1727",
   "metadata": {},
   "outputs": [],
   "source": []
  },
  {
   "cell_type": "code",
   "execution_count": null,
   "id": "32d3f2bf",
   "metadata": {},
   "outputs": [],
   "source": []
  },
  {
   "cell_type": "code",
   "execution_count": null,
   "id": "4b23f948",
   "metadata": {},
   "outputs": [],
   "source": []
  },
  {
   "cell_type": "code",
   "execution_count": null,
   "id": "e2f07b92",
   "metadata": {},
   "outputs": [],
   "source": []
  },
  {
   "cell_type": "code",
   "execution_count": null,
   "id": "b047584c",
   "metadata": {},
   "outputs": [],
   "source": []
  },
  {
   "cell_type": "code",
   "execution_count": null,
   "id": "b5ce5570",
   "metadata": {},
   "outputs": [],
   "source": []
  },
  {
   "cell_type": "code",
   "execution_count": null,
   "id": "7d2f93ad",
   "metadata": {},
   "outputs": [],
   "source": []
  },
  {
   "cell_type": "code",
   "execution_count": null,
   "id": "25f7f2f2",
   "metadata": {},
   "outputs": [],
   "source": []
  },
  {
   "cell_type": "code",
   "execution_count": null,
   "id": "71037174",
   "metadata": {},
   "outputs": [],
   "source": []
  },
  {
   "cell_type": "code",
   "execution_count": null,
   "id": "96d696d4",
   "metadata": {},
   "outputs": [],
   "source": []
  },
  {
   "cell_type": "code",
   "execution_count": null,
   "id": "ea2dc3be",
   "metadata": {},
   "outputs": [],
   "source": []
  },
  {
   "cell_type": "code",
   "execution_count": null,
   "id": "2faf67c4",
   "metadata": {},
   "outputs": [],
   "source": []
  },
  {
   "cell_type": "code",
   "execution_count": null,
   "id": "389ba17d",
   "metadata": {},
   "outputs": [],
   "source": []
  },
  {
   "cell_type": "code",
   "execution_count": null,
   "id": "e09f3aab",
   "metadata": {},
   "outputs": [],
   "source": []
  },
  {
   "cell_type": "code",
   "execution_count": null,
   "id": "cc6cdaab",
   "metadata": {},
   "outputs": [],
   "source": []
  },
  {
   "cell_type": "code",
   "execution_count": null,
   "id": "3167a8c9",
   "metadata": {},
   "outputs": [],
   "source": []
  },
  {
   "cell_type": "code",
   "execution_count": null,
   "id": "8c2c4efe",
   "metadata": {},
   "outputs": [],
   "source": []
  },
  {
   "cell_type": "code",
   "execution_count": null,
   "id": "01f533a0",
   "metadata": {},
   "outputs": [],
   "source": []
  },
  {
   "cell_type": "code",
   "execution_count": null,
   "id": "2e6ec400",
   "metadata": {},
   "outputs": [],
   "source": []
  },
  {
   "cell_type": "code",
   "execution_count": null,
   "id": "941a6bb7",
   "metadata": {},
   "outputs": [],
   "source": []
  },
  {
   "cell_type": "code",
   "execution_count": null,
   "id": "785d6ff8",
   "metadata": {},
   "outputs": [],
   "source": []
  },
  {
   "cell_type": "code",
   "execution_count": null,
   "id": "08eaad01",
   "metadata": {},
   "outputs": [],
   "source": []
  },
  {
   "cell_type": "code",
   "execution_count": null,
   "id": "cd38d749",
   "metadata": {},
   "outputs": [],
   "source": []
  },
  {
   "cell_type": "code",
   "execution_count": null,
   "id": "5a1d3b4c",
   "metadata": {},
   "outputs": [],
   "source": []
  },
  {
   "cell_type": "code",
   "execution_count": null,
   "id": "358968f2",
   "metadata": {},
   "outputs": [],
   "source": []
  },
  {
   "cell_type": "code",
   "execution_count": null,
   "id": "de16f5d2",
   "metadata": {},
   "outputs": [],
   "source": []
  },
  {
   "cell_type": "code",
   "execution_count": null,
   "id": "3bde5960",
   "metadata": {},
   "outputs": [],
   "source": []
  },
  {
   "cell_type": "code",
   "execution_count": null,
   "id": "bb846c00",
   "metadata": {},
   "outputs": [],
   "source": []
  },
  {
   "cell_type": "code",
   "execution_count": null,
   "id": "754c6c94",
   "metadata": {},
   "outputs": [],
   "source": []
  },
  {
   "cell_type": "code",
   "execution_count": null,
   "id": "454618d8",
   "metadata": {},
   "outputs": [],
   "source": []
  },
  {
   "cell_type": "code",
   "execution_count": null,
   "id": "8fa80fdc",
   "metadata": {},
   "outputs": [],
   "source": []
  },
  {
   "cell_type": "code",
   "execution_count": null,
   "id": "62222bb9",
   "metadata": {},
   "outputs": [],
   "source": []
  },
  {
   "cell_type": "code",
   "execution_count": null,
   "id": "7b612bcb",
   "metadata": {},
   "outputs": [],
   "source": []
  },
  {
   "cell_type": "code",
   "execution_count": null,
   "id": "f54fee5b",
   "metadata": {},
   "outputs": [],
   "source": []
  },
  {
   "cell_type": "code",
   "execution_count": null,
   "id": "535133de",
   "metadata": {},
   "outputs": [],
   "source": []
  },
  {
   "cell_type": "code",
   "execution_count": null,
   "id": "2879828d",
   "metadata": {},
   "outputs": [],
   "source": []
  },
  {
   "cell_type": "code",
   "execution_count": null,
   "id": "7cd017f8",
   "metadata": {},
   "outputs": [],
   "source": []
  },
  {
   "cell_type": "code",
   "execution_count": null,
   "id": "b0401b49",
   "metadata": {},
   "outputs": [],
   "source": []
  },
  {
   "cell_type": "code",
   "execution_count": null,
   "id": "167d42fd",
   "metadata": {},
   "outputs": [],
   "source": []
  },
  {
   "cell_type": "code",
   "execution_count": null,
   "id": "2ffc2ac7",
   "metadata": {},
   "outputs": [],
   "source": []
  },
  {
   "cell_type": "code",
   "execution_count": null,
   "id": "d34571f9",
   "metadata": {},
   "outputs": [],
   "source": []
  },
  {
   "cell_type": "code",
   "execution_count": null,
   "id": "65bb8dce",
   "metadata": {},
   "outputs": [],
   "source": []
  },
  {
   "cell_type": "code",
   "execution_count": null,
   "id": "eee3a77f",
   "metadata": {},
   "outputs": [],
   "source": []
  },
  {
   "cell_type": "code",
   "execution_count": null,
   "id": "7a152208",
   "metadata": {},
   "outputs": [],
   "source": []
  },
  {
   "cell_type": "code",
   "execution_count": null,
   "id": "15a4e519",
   "metadata": {},
   "outputs": [],
   "source": []
  },
  {
   "cell_type": "code",
   "execution_count": null,
   "id": "c3454e0f",
   "metadata": {},
   "outputs": [],
   "source": []
  },
  {
   "cell_type": "code",
   "execution_count": null,
   "id": "7d2b150d",
   "metadata": {},
   "outputs": [],
   "source": []
  },
  {
   "cell_type": "code",
   "execution_count": null,
   "id": "fa646591",
   "metadata": {},
   "outputs": [],
   "source": []
  }
 ],
 "metadata": {
  "kernelspec": {
   "display_name": "Python 3",
   "language": "python",
   "name": "python3"
  },
  "language_info": {
   "codemirror_mode": {
    "name": "ipython",
    "version": 3
   },
   "file_extension": ".py",
   "mimetype": "text/x-python",
   "name": "python",
   "nbconvert_exporter": "python",
   "pygments_lexer": "ipython3",
   "version": "3.8.8"
  }
 },
 "nbformat": 4,
 "nbformat_minor": 5
}
